{
 "cells": [
  {
   "cell_type": "code",
   "execution_count": null,
   "metadata": {},
   "outputs": [],
   "source": [
    "import numpy as np\n",
    "import pandas as pd\n",
    "import matplotlib.pyplot as plt\n",
    "import seaborn as sns\n",
    "import os\n",
    "import re\n",
    "import json\n",
    "import gzip\n",
    "%pip install geopandas\n",
    "%pip install contextily\n",
    "%pip install plotly\n",
    "import plotly.express as px\n",
    "import folium\n",
    "import geopandas as gpd\n",
    "import contextily as ctx\n",
    "\n"
   ]
  },
  {
   "cell_type": "code",
   "execution_count": null,
   "metadata": {},
   "outputs": [],
   "source": [
    "def parse(path):\n",
    "  g = gzip.open(path, 'r')\n",
    "  for l in g:\n",
    "    yield json.loads(l)"
   ]
  },
  {
   "cell_type": "code",
   "execution_count": null,
   "metadata": {},
   "outputs": [],
   "source": [
    "meta = [item for item in parse('meta-California.json.gz')]\n",
    "meta_df = pd.DataFrame(meta)"
   ]
  },
  {
   "cell_type": "code",
   "execution_count": null,
   "metadata": {},
   "outputs": [],
   "source": [
    "rating_df = pd.read_csv('rating-California.csv.gz', compression='gzip')"
   ]
  },
  {
   "cell_type": "code",
   "execution_count": null,
   "metadata": {},
   "outputs": [],
   "source": [
    "rating_df"
   ]
  },
  {
   "cell_type": "code",
   "execution_count": null,
   "metadata": {},
   "outputs": [],
   "source": [
    "meta_df"
   ]
  },
  {
   "cell_type": "code",
   "execution_count": null,
   "metadata": {},
   "outputs": [],
   "source": [
    "meta_df['category']"
   ]
  },
  {
   "cell_type": "code",
   "execution_count": null,
   "metadata": {},
   "outputs": [],
   "source": [
    "meta_df_restaurants = meta_df[meta_df['category'].apply(lambda categories: any('restaurant' in category.lower() for category in categories) if categories is not None else False)]\n",
    "\n",
    "print(len(meta_df_restaurants))"
   ]
  },
  {
   "cell_type": "code",
   "execution_count": null,
   "metadata": {},
   "outputs": [],
   "source": [
    "# Step 2: Get list of gmap_id\n",
    "restaurant_ids = meta_df_restaurants['gmap_id'].tolist()\n",
    "\n",
    "# Step 3: Filter rating_df\n",
    "rating_df = rating_df[rating_df['business'].isin(restaurant_ids)]"
   ]
  },
  {
   "cell_type": "code",
   "execution_count": null,
   "metadata": {},
   "outputs": [],
   "source": [
    "rating_df"
   ]
  },
  {
   "cell_type": "code",
   "execution_count": null,
   "metadata": {},
   "outputs": [],
   "source": [
    "gdf = gpd.GeoDataFrame(\n",
    "    meta_df, geometry=gpd.points_from_xy(meta_df.longitude, meta_df.latitude))\n",
    "\n",
    "# Set the CRS for GeoDataFrame to EPSG:4326\n",
    "gdf.set_crs(epsg=4326, inplace=True)\n",
    "gdf = gdf.to_crs(epsg=3857)\n"
   ]
  },
  {
   "cell_type": "code",
   "execution_count": null,
   "metadata": {},
   "outputs": [],
   "source": [
    "# Define bounds for California (in Web Mercator coordinates)\n",
    "california_bounds = {\n",
    "    \"minx\": -13884029, # Corresponding to the westernmost point\n",
    "    \"miny\": 3832058,   # Corresponding to the southernmost point\n",
    "    \"maxx\": -12765716, # Corresponding to the easternmost point\n",
    "    \"maxy\": 5165920    # Corresponding to the northernmost point\n",
    "}\n",
    "\n",
    "# Create a subplot\n",
    "fig, ax = plt.subplots(figsize=(10, 10))\n",
    "\n",
    "# Plot the points\n",
    "gdf.plot(ax=ax, color='red', alpha=0.6, markersize=5)\n",
    "\n",
    "# Add a basemap\n",
    "ctx.add_basemap(ax, crs=gdf.crs, source=ctx.providers.OpenStreetMap.Mapnik)\n",
    "\n",
    "# Zoom into California\n",
    "ax.set_xlim(california_bounds['minx'], california_bounds['maxx'])\n",
    "ax.set_ylim(california_bounds['miny'], california_bounds['maxy'])\n",
    "\n",
    "ax.set_axis_off()\n",
    "plt.title('Restaurant Locations in California')\n",
    "plt.show()\n",
    "\n"
   ]
  },
  {
   "cell_type": "code",
   "execution_count": null,
   "metadata": {},
   "outputs": [],
   "source": []
  }
 ],
 "metadata": {
  "kernelspec": {
   "display_name": "Python 3 (ipykernel)",
   "language": "python",
   "name": "python3"
  },
  "language_info": {
   "codemirror_mode": {
    "name": "ipython",
    "version": 3
   },
   "file_extension": ".py",
   "mimetype": "text/x-python",
   "name": "python",
   "nbconvert_exporter": "python",
   "pygments_lexer": "ipython3",
   "version": "3.11.5"
  }
 },
 "nbformat": 4,
 "nbformat_minor": 2
}
